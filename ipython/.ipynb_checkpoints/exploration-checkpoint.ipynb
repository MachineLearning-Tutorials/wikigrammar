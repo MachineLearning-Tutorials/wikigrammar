{
 "cells": [
  {
   "cell_type": "code",
   "execution_count": 1,
   "metadata": {
    "collapsed": false
   },
   "outputs": [],
   "source": [
    "library(ggplot2)\n",
    "library(data.table)"
   ]
  },
  {
   "cell_type": "code",
   "execution_count": 2,
   "metadata": {
    "collapsed": false
   },
   "outputs": [
    {
     "data": {
      "text/html": [
       "<table>\n",
       "<thead><tr><th scope=col>rev_id</th><th scope=col>i</th><th scope=col>sentence</th><th scope=col>length</th><th scope=col>log_proba</th><th scope=col>productions</th></tr></thead>\n",
       "<tbody>\n",
       "\t<tr><td>729956321               </td><td>0                       </td><td>{{Infobox ...    = 843. </td><td>863                     </td><td> -36.42606              </td><td>16                      </td></tr>\n",
       "\t<tr><td>729956321               </td><td>1                       </td><td>7\\n| congr...iladelphia</td><td>319                     </td><td>-177.09983              </td><td>80                      </td></tr>\n",
       "\t<tr><td>729956321               </td><td>2                       </td><td>Le Père Go...e humaine. </td><td>207                     </td><td> -91.14394              </td><td>43                      </td></tr>\n",
       "\t<tr><td>729956321               </td><td>3                       </td><td>Set in Par...Rastignac. </td><td>198                     </td><td>-112.42665              </td><td>52                      </td></tr>\n",
       "\t<tr><td>729956321               </td><td>4                       </td><td>Originally...ant novel. </td><td>128                     </td><td> -50.98167              </td><td>26                      </td></tr>\n",
       "</tbody>\n",
       "</table>\n"
      ],
      "text/latex": [
       "\\begin{tabular}{r|llllll}\n",
       " rev\\_id & i & sentence & length & log\\_proba & productions\\\\\n",
       "\\hline\n",
       "\t 729956321                    & 0                            & \\{\\{Infobox ...    = 843.  & 863                          &  -36.42606                   & 16                          \\\\\n",
       "\t 729956321                                         & 1                                                 & 7\\textbackslash{}n\\textbar{} congr...iladelphia & 319                                               & -177.09983                                        & 80                                               \\\\\n",
       "\t 729956321                & 2                        & Le Père Go...e humaine.  & 207                      &  -91.14394               & 43                      \\\\\n",
       "\t 729956321                & 3                        & Set in Par...Rastignac.  & 198                      & -112.42665               & 52                      \\\\\n",
       "\t 729956321                & 4                        & Originally...ant novel.  & 128                      &  -50.98167               & 26                      \\\\\n",
       "\\end{tabular}\n"
      ],
      "text/markdown": [
       "\n",
       "rev_id | i | sentence | length | log_proba | productions | \n",
       "|---|---|---|---|---|\n",
       "| 729956321                | 0                        | {{Infobox ...    = 843.  | 863                      |  -36.42606               | 16                       | \n",
       "| 729956321                | 1                        | 7\\n| congr...iladelphia | 319                      | -177.09983               | 80                       | \n",
       "| 729956321                | 2                        | Le Père Go...e humaine.  | 207                      |  -91.14394               | 43                       | \n",
       "| 729956321                | 3                        | Set in Par...Rastignac.  | 198                      | -112.42665               | 52                       | \n",
       "| 729956321                | 4                        | Originally...ant novel.  | 128                      |  -50.98167               | 26                       | \n",
       "\n",
       "\n"
      ],
      "text/plain": [
       "  rev_id    i sentence                 length log_proba  productions\n",
       "1 729956321 0 {{Infobox ...    = 843.  863     -36.42606 16         \n",
       "2 729956321 1 7\\\\n| congr...iladelphia 319    -177.09983 80         \n",
       "3 729956321 2 Le Père Go...e humaine.  207     -91.14394 43         \n",
       "4 729956321 3 Set in Par...Rastignac.  198    -112.42665 52         \n",
       "5 729956321 4 Originally...ant novel.  128     -50.98167 26         "
      ]
     },
     "metadata": {},
     "output_type": "display_data"
    }
   ],
   "source": [
    "fa_scores = data.table(read.table(\"../datasets/enwiki.fa_sentence_scores.tsv\", \n",
    "                                  sep=\"\\t\", header=T, quote=\"\", comment.char=\"\"))\n",
    "fa_scores[1:5,]"
   ]
  },
  {
   "cell_type": "code",
   "execution_count": 4,
   "metadata": {
    "collapsed": false
   },
   "outputs": [
    {
     "data": {},
     "metadata": {},
     "output_type": "display_data"
    },
    {
     "ename": "ERROR",
     "evalue": "Error in file(con, \"rb\"): cannot open the connection\n",
     "output_type": "error",
     "traceback": [
      "Error in file(con, \"rb\"): cannot open the connection\nTraceback:\n"
     ]
    },
    {
     "data": {
      "text/plain": [
       "plot without title"
      ]
     },
     "metadata": {},
     "output_type": "display_data"
    }
   ],
   "source": [
    "options(repr.plot.width=7, repr.plot.height=5)\n",
    "ggplot(\n",
    "    fa_scores,\n",
    "    aes(productions, enwiki.fa_sentence.model)\n",
    ") + \n",
    "theme_bw() +\n",
    "geom_point()"
   ]
  },
  {
   "cell_type": "code",
   "execution_count": 5,
   "metadata": {
    "collapsed": false
   },
   "outputs": [
    {
     "data": {},
     "metadata": {},
     "output_type": "display_data"
    },
    {
     "data": {
      "image/png": "[encoded data removed]",
      "text/plain": [
       "plot without title"
      ]
     },
     "metadata": {},
     "output_type": "display_data"
    }
   ],
   "source": [
    "options(repr.plot.width=7, repr.plot.height=3)\n",
    "ggplot(\n",
    "    fa_scores,\n",
    "    aes(x=log_proba/productions)\n",
    ") + \n",
    "theme_bw() +\n",
    "geom_density()"
   ]
  },
  {
   "cell_type": "code",
   "execution_count": null,
   "metadata": {
    "collapsed": true
   },
   "outputs": [],
   "source": []
  }
 ],
 "metadata": {
  "kernelspec": {
   "display_name": "R",
   "language": "R",
   "name": "ir"
  },
  "language_info": {
   "codemirror_mode": "r",
   "file_extension": ".r",
   "mimetype": "text/x-r-source",
   "name": "R",
   "pygments_lexer": "r",
   "version": "3.2.3"
  }
 },
 "nbformat": 4,
 "nbformat_minor": 0
}
