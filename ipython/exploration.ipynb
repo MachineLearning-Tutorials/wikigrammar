{
 "cells": [
  {
   "cell_type": "code",
   "execution_count": 1,
   "metadata": {
    "collapsed": false
   },
   "outputs": [],
   "source": [
    "library(ggplot2)\n",
    "library(data.table)"
   ]
  },
  {
   "cell_type": "code",
   "execution_count": 2,
   "metadata": {
    "collapsed": false
   },
   "outputs": [
    {
     "data": {
      "text/html": [
       "<table>\n",
       "<thead><tr><th scope=col>rev_id</th><th scope=col>i</th><th scope=col>sentence</th><th scope=col>length</th><th scope=col>productions</th><th scope=col>enwiki.fa_sentence.normalized.model</th><th scope=col>enwiki.spam_sentence.normalized.model</th><th scope=col>enwiki.vandalism_sentence.normalized.model</th><th scope=col>enwiki.attack_sentence.normalized.model</th></tr></thead>\n",
       "<tbody>\n",
       "\t<tr><td>729956321              </td><td>0                      </td><td>Title page...e humaine.</td><td>348                    </td><td>99                     </td><td>-153.51343             </td><td>-156.54687             </td><td>-161.62977             </td><td>-145.71365             </td></tr>\n",
       "\t<tr><td>729956321              </td><td>1                      </td><td>Set in Par...Rastignac.</td><td>200                    </td><td>55                     </td><td>-103.66183             </td><td>-109.12338             </td><td>-107.13019             </td><td> -98.05785             </td></tr>\n",
       "\t<tr><td>729956321              </td><td>2                      </td><td>Originally...ant novel.</td><td>132                    </td><td>34                     </td><td> -50.45413             </td><td> -52.49891             </td><td> -53.50500             </td><td> -49.59816             </td></tr>\n",
       "\t<tr><td>729956321              </td><td>3                      </td><td>Hunt, p. 9...s fiction.</td><td>188                    </td><td>39                     </td><td> -63.35126             </td><td> -68.44828             </td><td> -69.29124             </td><td> -67.35025             </td></tr>\n",
       "\t<tr><td>729956321              </td><td>4                      </td><td>The novel ...d subtext.</td><td>113                    </td><td>32                     </td><td> -58.29853             </td><td> -62.61242             </td><td> -63.78634             </td><td> -59.85356             </td></tr>\n",
       "</tbody>\n",
       "</table>\n"
      ],
      "text/latex": [
       "\\begin{tabular}{r|lllllllll}\n",
       " rev\\_id & i & sentence & length & productions & enwiki.fa\\_sentence.normalized.model & enwiki.spam\\_sentence.normalized.model & enwiki.vandalism\\_sentence.normalized.model & enwiki.attack\\_sentence.normalized.model\\\\\n",
       "\\hline\n",
       "\t 729956321               & 0                       & Title page...e humaine. & 348                     & 99                      & -153.51343              & -156.54687              & -161.62977              & -145.71365             \\\\\n",
       "\t 729956321               & 1                       & Set in Par...Rastignac. & 200                     & 55                      & -103.66183              & -109.12338              & -107.13019              &  -98.05785             \\\\\n",
       "\t 729956321               & 2                       & Originally...ant novel. & 132                     & 34                      &  -50.45413              &  -52.49891              &  -53.50500              &  -49.59816             \\\\\n",
       "\t 729956321               & 3                       & Hunt, p. 9...s fiction. & 188                     & 39                      &  -63.35126              &  -68.44828              &  -69.29124              &  -67.35025             \\\\\n",
       "\t 729956321               & 4                       & The novel ...d subtext. & 113                     & 32                      &  -58.29853              &  -62.61242              &  -63.78634              &  -59.85356             \\\\\n",
       "\\end{tabular}\n"
      ],
      "text/markdown": [
       "\n",
       "rev_id | i | sentence | length | productions | enwiki.fa_sentence.normalized.model | enwiki.spam_sentence.normalized.model | enwiki.vandalism_sentence.normalized.model | enwiki.attack_sentence.normalized.model | \n",
       "|---|---|---|---|---|\n",
       "| 729956321               | 0                       | Title page...e humaine. | 348                     | 99                      | -153.51343              | -156.54687              | -161.62977              | -145.71365              | \n",
       "| 729956321               | 1                       | Set in Par...Rastignac. | 200                     | 55                      | -103.66183              | -109.12338              | -107.13019              |  -98.05785              | \n",
       "| 729956321               | 2                       | Originally...ant novel. | 132                     | 34                      |  -50.45413              |  -52.49891              |  -53.50500              |  -49.59816              | \n",
       "| 729956321               | 3                       | Hunt, p. 9...s fiction. | 188                     | 39                      |  -63.35126              |  -68.44828              |  -69.29124              |  -67.35025              | \n",
       "| 729956321               | 4                       | The novel ...d subtext. | 113                     | 32                      |  -58.29853              |  -62.61242              |  -63.78634              |  -59.85356              | \n",
       "\n",
       "\n"
      ],
      "text/plain": [
       "  rev_id    i sentence                length productions\n",
       "1 729956321 0 Title page...e humaine. 348    99         \n",
       "2 729956321 1 Set in Par...Rastignac. 200    55         \n",
       "3 729956321 2 Originally...ant novel. 132    34         \n",
       "4 729956321 3 Hunt, p. 9...s fiction. 188    39         \n",
       "5 729956321 4 The novel ...d subtext. 113    32         \n",
       "  enwiki.fa_sentence.normalized.model enwiki.spam_sentence.normalized.model\n",
       "1 -153.51343                          -156.54687                           \n",
       "2 -103.66183                          -109.12338                           \n",
       "3  -50.45413                           -52.49891                           \n",
       "4  -63.35126                           -68.44828                           \n",
       "5  -58.29853                           -62.61242                           \n",
       "  enwiki.vandalism_sentence.normalized.model\n",
       "1 -161.62977                                \n",
       "2 -107.13019                                \n",
       "3  -53.50500                                \n",
       "4  -69.29124                                \n",
       "5  -63.78634                                \n",
       "  enwiki.attack_sentence.normalized.model\n",
       "1 -145.71365                             \n",
       "2  -98.05785                             \n",
       "3  -49.59816                             \n",
       "4  -67.35025                             \n",
       "5  -59.85356                             "
      ]
     },
     "metadata": {},
     "output_type": "display_data"
    }
   ],
   "source": [
    "fa_scores = data.table(read.table(\"../datasets/enwiki.fa_sentence_scores.tsv\", \n",
    "                                  sep=\"\\t\", header=T, quote=\"\", comment.char=\"\"))\n",
    "fa_scores[1:5,]"
   ]
  },
  {
   "cell_type": "code",
   "execution_count": 3,
   "metadata": {
    "collapsed": false
   },
   "outputs": [
    {
     "data": {},
     "metadata": {},
     "output_type": "display_data"
    },
    {
     "ename": "ERROR",
     "evalue": "Error in file(con, \"rb\"): cannot open the connection\n",
     "output_type": "error",
     "traceback": [
      "Error in file(con, \"rb\"): cannot open the connection\nTraceback:\n"
     ]
    },
    {
     "data": {
      "text/plain": [
       "plot without title"
      ]
     },
     "metadata": {},
     "output_type": "display_data"
    }
   ],
   "source": [
    "options(repr.plot.width=7, repr.plot.height=5)\n",
    "ggplot(\n",
    "    fa_scores,\n",
    "    aes(productions, enwiki.fa_sentence.model)\n",
    ") + \n",
    "theme_bw() +\n",
    "geom_point()"
   ]
  },
  {
   "cell_type": "code",
   "execution_count": 4,
   "metadata": {
    "collapsed": false
   },
   "outputs": [
    {
     "data": {},
     "metadata": {},
     "output_type": "display_data"
    },
    {
     "ename": "ERROR",
     "evalue": "Error in file(con, \"rb\"): cannot open the connection\n",
     "output_type": "error",
     "traceback": [
      "Error in file(con, \"rb\"): cannot open the connection\nTraceback:\n"
     ]
    },
    {
     "data": {
      "text/plain": [
       "plot without title"
      ]
     },
     "metadata": {},
     "output_type": "display_data"
    }
   ],
   "source": [
    "options(repr.plot.width=7, repr.plot.height=3)\n",
    "ggplot(\n",
    "    fa_scores,\n",
    "    aes(x=log_proba/productions)\n",
    ") + \n",
    "theme_bw() +\n",
    "geom_density()"
   ]
  },
  {
   "cell_type": "code",
   "execution_count": null,
   "metadata": {
    "collapsed": true
   },
   "outputs": [],
   "source": []
  }
 ],
 "metadata": {
  "kernelspec": {
   "display_name": "R",
   "language": "R",
   "name": "ir"
  },
  "language_info": {
   "codemirror_mode": "r",
   "file_extension": ".r",
   "mimetype": "text/x-r-source",
   "name": "R",
   "pygments_lexer": "r",
   "version": "3.2.3"
  }
 },
 "nbformat": 4,
 "nbformat_minor": 0
}
